{
  "nbformat": 4,
  "nbformat_minor": 0,
  "metadata": {
    "colab": {
      "provenance": []
    },
    "kernelspec": {
      "name": "python3",
      "display_name": "Python 3"
    },
    "language_info": {
      "name": "python"
    }
  },
  "cells": [
    {
      "cell_type": "code",
      "source": [
        "import tensorflow as tf\n",
        "print(tf.__version__)"
      ],
      "metadata": {
        "id": "vCka86kNe9ep"
      },
      "execution_count": null,
      "outputs": []
    },
    {
      "cell_type": "code",
      "source": [
        "string  = tf.Variable(\"This is a string\", tf.string)\n",
        "number =  tf.Variable(35, tf.int16)\n",
        "floating = tf.Variable(3.567, tf.float64)\n",
        "\n",
        "print(string)"
      ],
      "metadata": {
        "id": "baiMe-7g_l6_"
      },
      "execution_count": null,
      "outputs": []
    },
    {
      "cell_type": "code",
      "source": [
        "rank1_tensor = tf.Variable([\"Test\", \"contra\", \"jatin\"], tf.string)\n",
        "rank2_tensor = tf.Variable([[\"test\", \"ok\"], [\"test\", \"yes\"], [\"test\", \"tree\"]], tf.string)\n",
        "rank3_tensor = tf.Variable([[[\"test\", \"ok\"], [\"test\", \"ok\"]], [[\"test\", \"ok\"], [\"test\", \"ok\"]], [[\"test\", \"ok\"], [\"test\", \"ok\"]]], tf.string)\n",
        "rank4_tensor = tf.Variable([[[\"test\", \"ok\"], [\"test\", \"ok\"], [\"test\", \"ok\"]], [[\"test\", \"ok\"], [\"test\", \"ok\"], [\"test\", \"ok\"]], [[\"test\", \"ok\"], [\"test\", \"ok\"], [\"test\", \"ok\"]], [[\"test\", \"ok\"], [\"test\", \"ok\"], [\"test\", \"ok\"]]], tf.string)\n",
        "\n",
        "tf.rank(rank4_tensor)"
      ],
      "metadata": {
        "id": "LgbE6TKvuB32"
      },
      "execution_count": null,
      "outputs": []
    },
    {
      "cell_type": "code",
      "source": [
        "rank4_tensor.shape"
      ],
      "metadata": {
        "id": "TRhWt8H-wQMl"
      },
      "execution_count": null,
      "outputs": []
    },
    {
      "cell_type": "code",
      "source": [
        "#tf.reshape(rank2_tensor, [2,3,1])\n",
        "tensor1 = tf.reshape(rank2_tensor, [2,3,1])\n",
        "print(tensor1)"
      ],
      "metadata": {
        "id": "TJ7hpvuN4npq"
      },
      "execution_count": null,
      "outputs": []
    },
    {
      "cell_type": "code",
      "source": [
        "t = tf.zeros([3,2,2,5])\n",
        "#print(t)\n",
        "t = tf.reshape(t, [2,3,5,2])\n",
        "#print(t)\n",
        "t = tf.reshape(t, [12, -1])\n",
        "print(t)"
      ],
      "metadata": {
        "id": "7vILtvmE7exB"
      },
      "execution_count": null,
      "outputs": []
    },
    {
      "cell_type": "code",
      "metadata": {
        "id": "b0YrD-hRqD-W"
      },
      "source": [
        "# Creating a 2D tensor\n",
        "matrix = [[1,2,3,4,5],\n",
        "          [6,7,8,9,10],\n",
        "          [11,12,13,14,15],\n",
        "          [16,17,18,19,20]]\n",
        "\n",
        "tensor = tf.Variable(matrix, dtype=tf.int32)\n",
        "print(tf.rank(tensor))\n",
        "print(tensor.shape)"
      ],
      "execution_count": null,
      "outputs": []
    },
    {
      "cell_type": "code",
      "metadata": {
        "id": "Wd85uGI7qyfC"
      },
      "source": [
        "# Now lets select some different rows and columns from our tensor\n",
        "\n",
        "three = tensor[0,2]  # selects the 3rd element from the 1st row\n",
        "print(three)  # -> 3\n",
        "\n",
        "row1 = tensor[0]  # selects the first row\n",
        "print(row1)\n",
        "\n",
        "column1 = tensor[:, 0]  # selects the first column\n",
        "print(column1)\n",
        "\n",
        "row_2_and_4 = tensor[1::2]  # selects second and fourth row\n",
        "print(row_2_and_4)\n",
        "\n",
        "column_1_in_row_2_and_3 = tensor[1:3, 0]\n",
        "print(column_1_in_row_2_and_3)\n"
      ],
      "execution_count": null,
      "outputs": []
    }
  ]
}